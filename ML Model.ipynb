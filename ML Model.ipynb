{
 "cells": [
  {
   "cell_type": "code",
   "execution_count": 22,
   "metadata": {},
   "outputs": [],
   "source": [
    "import json\n",
    "import pandas as pd\n",
    "import numpy as np\n",
    "import mltools as ml\n",
    "# import relevant parts of sklearn\n",
    "from sklearn import cluster, datasets, linear_model, preprocessing\n",
    "from sklearn.metrics import *\n",
    "#mean_squared_error, r2_score\n",
    "\n",
    "# We'll also import seaborn, a Python graphing library\n",
    "# (you may need to run >conda install seaborn (if using Anaconda)) \n",
    "import seaborn as sns\n",
    "\n",
    "# and matplotlib\n",
    "import matplotlib.pyplot as plt\n",
    "sns.set(style=\"white\", color_codes=True) \n",
    "plt.style.use('ggplot')\n",
    "%matplotlib inline\n",
    "\n",
    "import scipy.stats as stats\n",
    "\n",
    "# and turn off annoying warnings...(if we were writing \"real code\" we shouldn't do this)\n",
    "import warnings \n",
    "warnings.simplefilter('ignore')\n",
    "\n",
    "from sklearn.ensemble import RandomForestClassifier\n",
    "from sklearn import metrics"
   ]
  },
  {
   "cell_type": "code",
   "execution_count": null,
   "metadata": {},
   "outputs": [],
   "source": []
  },
  {
   "cell_type": "code",
   "execution_count": null,
   "metadata": {},
   "outputs": [],
   "source": [
    "# import data"
   ]
  },
  {
   "cell_type": "code",
   "execution_count": 71,
   "metadata": {},
   "outputs": [],
   "source": [
    "user = pd.read_csv('D:/1UCI/UCI/170B project source/user(3).csv')  "
   ]
  },
  {
   "cell_type": "code",
   "execution_count": 72,
   "metadata": {},
   "outputs": [
    {
     "data": {
      "text/plain": [
       "39805"
      ]
     },
     "execution_count": 72,
     "metadata": {},
     "output_type": "execute_result"
    }
   ],
   "source": [
    "len(user)"
   ]
  },
  {
   "cell_type": "code",
   "execution_count": 73,
   "metadata": {},
   "outputs": [
    {
     "data": {
      "text/html": [
       "<div>\n",
       "<style scoped>\n",
       "    .dataframe tbody tr th:only-of-type {\n",
       "        vertical-align: middle;\n",
       "    }\n",
       "\n",
       "    .dataframe tbody tr th {\n",
       "        vertical-align: top;\n",
       "    }\n",
       "\n",
       "    .dataframe thead th {\n",
       "        text-align: right;\n",
       "    }\n",
       "</style>\n",
       "<table border=\"1\" class=\"dataframe\">\n",
       "  <thead>\n",
       "    <tr style=\"text-align: right;\">\n",
       "      <th></th>\n",
       "      <th>date</th>\n",
       "      <th>source_reliability</th>\n",
       "      <th>gender</th>\n",
       "      <th>Age</th>\n",
       "      <th>confirmed_number</th>\n",
       "      <th>account_age</th>\n",
       "      <th>user_attitude</th>\n",
       "      <th>followers_count</th>\n",
       "      <th>friends_count</th>\n",
       "      <th>stateName</th>\n",
       "      <th>domain</th>\n",
       "      <th>reliability</th>\n",
       "    </tr>\n",
       "  </thead>\n",
       "  <tbody>\n",
       "    <tr>\n",
       "      <td>3</td>\n",
       "      <td>2020-01-22</td>\n",
       "      <td>a</td>\n",
       "      <td>Male</td>\n",
       "      <td>(48-53)</td>\n",
       "      <td>555</td>\n",
       "      <td>10</td>\n",
       "      <td>neutral</td>\n",
       "      <td>23</td>\n",
       "      <td>307</td>\n",
       "      <td>Kentucky</td>\n",
       "      <td>twitter</td>\n",
       "      <td>FAKE</td>\n",
       "    </tr>\n",
       "    <tr>\n",
       "      <td>4</td>\n",
       "      <td>2020-01-22</td>\n",
       "      <td>a</td>\n",
       "      <td>Female</td>\n",
       "      <td>(25-32)</td>\n",
       "      <td>555</td>\n",
       "      <td>11</td>\n",
       "      <td>positive</td>\n",
       "      <td>2908</td>\n",
       "      <td>1746</td>\n",
       "      <td>New York</td>\n",
       "      <td>cnbc</td>\n",
       "      <td>FAKE</td>\n",
       "    </tr>\n",
       "    <tr>\n",
       "      <td>5</td>\n",
       "      <td>2020-01-22</td>\n",
       "      <td>a</td>\n",
       "      <td>Male</td>\n",
       "      <td>(25-32)</td>\n",
       "      <td>555</td>\n",
       "      <td>11</td>\n",
       "      <td>negative</td>\n",
       "      <td>19208</td>\n",
       "      <td>6979</td>\n",
       "      <td>Texas</td>\n",
       "      <td>npr</td>\n",
       "      <td>REAL</td>\n",
       "    </tr>\n",
       "  </tbody>\n",
       "</table>\n",
       "</div>"
      ],
      "text/plain": [
       "         date source_reliability  gender      Age  confirmed_number  \\\n",
       "3  2020-01-22                  a    Male  (48-53)               555   \n",
       "4  2020-01-22                  a  Female  (25-32)               555   \n",
       "5  2020-01-22                  a    Male  (25-32)               555   \n",
       "\n",
       "   account_age user_attitude  followers_count  friends_count stateName  \\\n",
       "3           10       neutral               23            307  Kentucky   \n",
       "4           11      positive             2908           1746  New York   \n",
       "5           11      negative            19208           6979     Texas   \n",
       "\n",
       "    domain reliability  \n",
       "3  twitter        FAKE  \n",
       "4     cnbc        FAKE  \n",
       "5      npr        REAL  "
      ]
     },
     "execution_count": 73,
     "metadata": {},
     "output_type": "execute_result"
    }
   ],
   "source": [
    "user[3:6]"
   ]
  },
  {
   "cell_type": "code",
   "execution_count": null,
   "metadata": {},
   "outputs": [],
   "source": []
  },
  {
   "cell_type": "code",
   "execution_count": 74,
   "metadata": {},
   "outputs": [],
   "source": [
    "# set X and Y for model "
   ]
  },
  {
   "cell_type": "code",
   "execution_count": 75,
   "metadata": {},
   "outputs": [],
   "source": [
    "np.random.seed(0)\n",
    "Y = user[user.columns[-1]]\n",
    "#Y = user[user.columns[-1]].astype('category').cat.codes\n",
    "X= user[['followers_count','friends_count','stateName',\"source_reliability\",\"Age\",\"gender\",\"confirmed_number\",'account_age','user_attitude']]\n",
    "X[\"stateName\"] = X[\"stateName\"].astype('category').cat.codes\n",
    "X[\"source_reliability\"] = X[\"source_reliability\"].astype('category').cat.codes\n",
    "X['user_attitude'] = X['user_attitude'].astype('category').cat.codes\n",
    "X[\"Age\"] = X[\"Age\"].astype('category').cat.codes\n",
    "X[\"gender\"] = X[\"gender\"].astype('category').cat.codes\n",
    "X[\"confirmed_number\"] = X[\"confirmed_number\"]\n",
    "X['account_age'] = X['account_age']"
   ]
  },
  {
   "cell_type": "code",
   "execution_count": null,
   "metadata": {},
   "outputs": [],
   "source": []
  },
  {
   "cell_type": "code",
   "execution_count": 76,
   "metadata": {},
   "outputs": [],
   "source": [
    "# knn "
   ]
  },
  {
   "cell_type": "code",
   "execution_count": 77,
   "metadata": {},
   "outputs": [
    {
     "name": "stdout",
     "output_type": "stream",
     "text": [
      "K-value= 100  Error Rate for test data = 0.20113883771562552\n",
      "K-value= 100  Error Rate for training data = 0.2065822057926282\n"
     ]
    }
   ],
   "source": [
    "from sklearn.neighbors import KNeighborsClassifier\n",
    "from sklearn.model_selection import train_test_split\n",
    "X_train, X_test, y_train, y_test = train_test_split(X, Y, test_size=0.3)\n",
    "k = 100\n",
    "knn = KNeighborsClassifier(n_neighbors=k)\n",
    "knn.fit(X_train,y_train)\n",
    "yp=knn.predict(X_test).tolist()\n",
    "ypp=knn.predict(X_train).tolist()\n",
    "    \n",
    "count=0\n",
    "for i in range(len(yp)):\n",
    "    if yp[i] != y_test.tolist()[i]:\n",
    "        count+=1\n",
    "print(\"K-value=\",k,\" Error Rate for test data =\",count/len(yp))\n",
    "    \n",
    "count2=0\n",
    "for i in range(len(ypp)):\n",
    "    if ypp[i] != y_train.tolist()[i]:\n",
    "        count2+=1\n",
    "print(\"K-value=\",k,\" Error Rate for training data =\",count2/len(ypp))\n"
   ]
  },
  {
   "cell_type": "code",
   "execution_count": null,
   "metadata": {},
   "outputs": [],
   "source": []
  },
  {
   "cell_type": "code",
   "execution_count": 78,
   "metadata": {},
   "outputs": [],
   "source": [
    "# random forest"
   ]
  },
  {
   "cell_type": "code",
   "execution_count": 80,
   "metadata": {},
   "outputs": [
    {
     "name": "stdout",
     "output_type": "stream",
     "text": [
      "Accuracy: 0.8125104672584157\n"
     ]
    }
   ],
   "source": [
    "from sklearn.model_selection import train_test_split\n",
    "X_train, X_test, y_train, y_test = train_test_split(X, Y, test_size=0.3) \n",
    "clf=RandomForestClassifier(n_estimators=2000)\n",
    "clf.fit(X_train,y_train)\n",
    "y_pred=clf.predict(X_test)\n",
    "print(\"Accuracy:\",metrics.accuracy_score(y_test, y_pred))"
   ]
  },
  {
   "cell_type": "code",
   "execution_count": null,
   "metadata": {},
   "outputs": [],
   "source": []
  },
  {
   "cell_type": "code",
   "execution_count": 81,
   "metadata": {},
   "outputs": [],
   "source": [
    "# feature importance from Random Forest Model"
   ]
  },
  {
   "cell_type": "code",
   "execution_count": 82,
   "metadata": {},
   "outputs": [
    {
     "name": "stdout",
     "output_type": "stream",
     "text": [
      "Feature ranking:\n",
      "1. feature 0 (0.213040)\n",
      "2. feature 1 (0.209704)\n",
      "3. feature 6 (0.156503)\n",
      "4. feature 3 (0.121234)\n",
      "5. feature 2 (0.110708)\n",
      "6. feature 7 (0.085126)\n",
      "7. feature 4 (0.040553)\n",
      "8. feature 8 (0.040542)\n",
      "9. feature 5 (0.022590)\n"
     ]
    },
    {
     "data": {
      "image/png": "[encoded data removed]",
      "text/plain": [
       "<Figure size 1080x360 with 1 Axes>"
      ]
     },
     "metadata": {
      "needs_background": "light"
     },
     "output_type": "display_data"
    }
   ],
   "source": [
    "importances = clf.feature_importances_\n",
    "std = np.std([tree.feature_importances_ for tree in clf.estimators_],\n",
    "             axis=0)\n",
    "indices = np.argsort(importances)[::-1]\n",
    "\n",
    "print(\"Feature ranking:\")\n",
    "for f in range(X.shape[1]):\n",
    "    print(\"%d. feature %d (%f)\" % (f + 1, indices[f], importances[indices[f]]))\n",
    "\n",
    "# Plot the impurity-based feature importances of the forest\n",
    "plt.figure(figsize=(15,5))\n",
    "plt.title(\"Feature importances\")\n",
    "plt.bar(range(X.shape[1]), importances[indices],\n",
    "        color=\"r\", yerr=std[indices], align=\"center\")\n",
    "#plt.xticks(range(X.shape[1]), indices)\n",
    "plt.xlim([-1, X.shape[1]])\n",
    "plt.xticks(range(X.shape[1]),['followers_count', 'friends_count', 'confirmed_number', 'source_reliability','stateName','account_age',  'user_attitude','Age', 'gender'])\n",
    "plt.show()"
   ]
  },
  {
   "cell_type": "code",
   "execution_count": null,
   "metadata": {},
   "outputs": [],
   "source": []
  }
 ],
 "metadata": {
  "kernelspec": {
   "display_name": "Python 3",
   "language": "python",
   "name": "python3"
  },
  "language_info": {
   "codemirror_mode": {
    "name": "ipython",
    "version": 3
   },
   "file_extension": ".py",
   "mimetype": "text/x-python",
   "name": "python",
   "nbconvert_exporter": "python",
   "pygments_lexer": "ipython3",
   "version": "3.7.4"
  }
 },
 "nbformat": 4,
 "nbformat_minor": 2
}
