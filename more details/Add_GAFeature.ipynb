{
 "cells": [
  {
   "cell_type": "code",
   "execution_count": 1,
   "metadata": {},
   "outputs": [],
   "source": [
    "#detect gender & age\n",
    "import cv2\n",
    "import math\n",
    "import argparse\n",
    "import json\n",
    "\n",
    "def highlightFace(net, frame, conf_threshold=0.7):\n",
    "    frameOpencvDnn=frame.copy()\n",
    "    frameHeight=frameOpencvDnn.shape[0]\n",
    "    frameWidth=frameOpencvDnn.shape[1]\n",
    "    blob=cv2.dnn.blobFromImage(frameOpencvDnn, 1.0, (300, 300), [104, 117, 123], True, False)\n",
    "\n",
    "    net.setInput(blob)\n",
    "    detections=net.forward()\n",
    "    faceBoxes=[]\n",
    "    for i in range(detections.shape[2]):\n",
    "        confidence=detections[0,0,i,2]\n",
    "        if confidence>conf_threshold:\n",
    "            x1=int(detections[0,0,i,3]*frameWidth)\n",
    "            y1=int(detections[0,0,i,4]*frameHeight)\n",
    "            x2=int(detections[0,0,i,5]*frameWidth)\n",
    "            y2=int(detections[0,0,i,6]*frameHeight)\n",
    "            faceBoxes.append([x1,y1,x2,y2])\n",
    "            cv2.rectangle(frameOpencvDnn, (x1,y1), (x2,y2), (0,255,0), int(round(frameHeight/150)), 8)\n",
    "    return frameOpencvDnn,faceBoxes\n",
    "\n",
    "\n",
    "\n",
    "def detectGA(image):\n",
    "    faceProto=\"opencv_face_detector.pbtxt\"\n",
    "    faceModel=\"opencv_face_detector_uint8.pb\"\n",
    "    ageProto=\"age_deploy.prototxt\"\n",
    "    ageModel=\"age_net.caffemodel\"\n",
    "    genderProto=\"gender_deploy.prototxt\"\n",
    "    genderModel=\"gender_net.caffemodel\"\n",
    "\n",
    "    MODEL_MEAN_VALUES=(78.4263377603, 87.7689143744, 114.895847746)\n",
    "    ageList=['(0-2)', '(4-6)', '(8-12)', '(15-20)', '(25-32)', '(38-43)', '(48-53)', '(60-100)']\n",
    "    genderList=['Male','Female']\n",
    "\n",
    "    faceNet=cv2.dnn.readNet(faceModel,faceProto)\n",
    "    ageNet=cv2.dnn.readNet(ageModel,ageProto)\n",
    "    genderNet=cv2.dnn.readNet(genderModel,genderProto)\n",
    "\n",
    "    video=cv2.VideoCapture(image if image else 0)\n",
    "    padding=20\n",
    "    while cv2.waitKey(1)<0 :\n",
    "        hasFrame,frame=video.read()\n",
    "        if not hasFrame:\n",
    "            cv2.waitKey()\n",
    "            break\n",
    "    \n",
    "        resultImg,faceBoxes=highlightFace(faceNet,frame)\n",
    "        if not faceBoxes:\n",
    "            return \"Unknow\",\"Unknow\"\n",
    "\n",
    "        for faceBox in faceBoxes:\n",
    "            face=frame[max(0,faceBox[1]-padding):\n",
    "                       min(faceBox[3]+padding,frame.shape[0]-1),max(0,faceBox[0]-padding)\n",
    "                       :min(faceBox[2]+padding, frame.shape[1]-1)]\n",
    "\n",
    "            blob=cv2.dnn.blobFromImage(face, 1.0, (227,227), MODEL_MEAN_VALUES, swapRB=False)\n",
    "            genderNet.setInput(blob)\n",
    "            genderPreds=genderNet.forward()\n",
    "            gender=genderList[genderPreds[0].argmax()]\n",
    "            #print(f'Gender: {gender}')\n",
    "\n",
    "            ageNet.setInput(blob)\n",
    "            agePreds=ageNet.forward()\n",
    "            age=ageList[agePreds[0].argmax()]\n",
    "            #print(f'Age: {age[1:-1]} years')\n",
    "            return gender,age"
   ]
  },
  {
   "cell_type": "code",
   "execution_count": null,
   "metadata": {},
   "outputs": [],
   "source": []
  },
  {
   "cell_type": "code",
   "execution_count": 2,
   "metadata": {},
   "outputs": [],
   "source": [
    "with open('/Users/yangtang/Desktop/our_R/our_week5_reliability.json') as f:\n",
    "    data = json.load(f, strict=False)"
   ]
  },
  {
   "cell_type": "code",
   "execution_count": 3,
   "metadata": {},
   "outputs": [
    {
     "name": "stdout",
     "output_type": "stream",
     "text": [
      "12025\n",
      "2500\n",
      "5000\n",
      "7500\n",
      "7500\n"
     ]
    }
   ],
   "source": [
    "print(len(data))\n",
    "for i in range(len(data)):\n",
    "    url=data[i]['user']['profile_image_url']\n",
    "    try:\n",
    "        result = detectGA(url)\n",
    "        data[i]['gender']=result[0]\n",
    "        data[i]['Age']=result[1]\n",
    "    except:\n",
    "        data[i]['gender']='Unknow'\n",
    "        data[i]['Age']='Unknow'\n",
    "        pass\n",
    "    \n",
    "# ageList=['(0-2)', '(4-6)', '(8-12)', '(15-20)', '(25-32)', '(38-43)', '(48-53)', '(60-100)']\n",
    "# genderList=['Male','Female']\n",
    "with open('our_week5_reliability_GAC.json', 'w') as outfile:\n",
    "    json.dump(data, outfile)"
   ]
  },
  {
   "cell_type": "code",
   "execution_count": null,
   "metadata": {},
   "outputs": [],
   "source": []
  },
  {
   "cell_type": "code",
   "execution_count": 15,
   "metadata": {},
   "outputs": [],
   "source": [
    "# ageList=['(0-2)', '(4-6)', '(8-12)', '(15-20)', '(25-32)', '(38-43)', '(48-53)', '(60-100)']\n",
    "# genderList=['Male','Female']\n",
    "# with open('our_week5_reliability_GAC.json', 'w') as outfile:\n",
    "#     json.dump(data, outfile)"
   ]
  },
  {
   "cell_type": "code",
   "execution_count": null,
   "metadata": {},
   "outputs": [],
   "source": []
  },
  {
   "cell_type": "code",
   "execution_count": null,
   "metadata": {},
   "outputs": [],
   "source": []
  },
  {
   "cell_type": "code",
   "execution_count": 10,
   "metadata": {},
   "outputs": [
    {
     "data": {
      "text/plain": [
       "Text(0, 0.5, 'Tweet Number')"
      ]
     },
     "execution_count": 10,
     "metadata": {},
     "output_type": "execute_result"
    },
    {
     "data": {
      "image/png": "[encoded data removed]",
      "text/plain": [
       "<Figure size 720x288 with 1 Axes>"
      ]
     },
     "metadata": {
      "needs_background": "light"
     },
     "output_type": "display_data"
    }
   ],
   "source": [
    "import matplotlib.pyplot as plt\n",
    "plt.figure(figsize=(10,4))\n",
    "probability = [1790,2482,1884,1441,2191,9369,14776,45106,44647,24759]\n",
    "names = ['1/22', '1/27','2/5', '2/12', '2/19', '2/26', '3/4', '3/10', '3/17', '3/25'] \n",
    "plt.bar(names, probability)\n",
    "plt.xticks(names)\n",
    "plt.yticks(probability) \n",
    "plt.xlabel('Time Interval')\n",
    "plt.ylabel('Tweet Number')"
   ]
  },
  {
   "cell_type": "code",
   "execution_count": null,
   "metadata": {},
   "outputs": [],
   "source": []
  },
  {
   "cell_type": "code",
   "execution_count": null,
   "metadata": {},
   "outputs": [],
   "source": []
  }
 ],
 "metadata": {
  "kernelspec": {
   "display_name": "Python 3",
   "language": "python",
   "name": "python3"
  },
  "language_info": {
   "codemirror_mode": {
    "name": "ipython",
    "version": 3
   },
   "file_extension": ".py",
   "mimetype": "text/x-python",
   "name": "python",
   "nbconvert_exporter": "python",
   "pygments_lexer": "ipython3",
   "version": "3.8.1"
  }
 },
 "nbformat": 4,
 "nbformat_minor": 4
}
