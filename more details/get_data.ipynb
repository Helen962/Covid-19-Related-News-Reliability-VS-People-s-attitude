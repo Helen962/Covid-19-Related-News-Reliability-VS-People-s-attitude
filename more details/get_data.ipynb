{
 "cells": [
  {
   "cell_type": "code",
   "execution_count": 1,
   "metadata": {},
   "outputs": [],
   "source": [
    "#Add your twitter api keys here\n",
    "CONSUMER_KEY = \"\"\n",
    "CONSUMER_SECRET = \"\"\n",
    "ACCESS_KEY = \"\"\n",
    "ACCESS_SECRET = \"\""
   ]
  },
  {
   "cell_type": "code",
   "execution_count": 2,
   "metadata": {},
   "outputs": [],
   "source": [
    "import tweepy\n",
    "auth = tweepy.OAuthHandler(CONSUMER_KEY, CONSUMER_SECRET)\n",
    "auth.set_access_token(ACCESS_KEY, ACCESS_SECRET)\n",
    "api = tweepy.API(auth)"
   ]
  },
  {
   "cell_type": "code",
   "execution_count": null,
   "metadata": {},
   "outputs": [],
   "source": []
  },
  {
   "cell_type": "code",
   "execution_count": 4,
   "metadata": {},
   "outputs": [],
   "source": [
    "# week1"
   ]
  },
  {
   "cell_type": "code",
   "execution_count": 6,
   "metadata": {},
   "outputs": [],
   "source": [
    "pandeResults1 = []\n",
    "for tweet in tweepy.Cursor(api.search,\n",
    "                           q=\"covid-19 || coronavirus || wuhan since:2020-3-25 until:2020-4-1\",\n",
    "                           result_type=\"top\", \n",
    "                           include_entities=True,\n",
    "                           wait_on_rate_limit=True,\n",
    "                           wait_on_rate_limit_notify=True).items():\n",
    "        pandeResults1.append(tweet)"
   ]
  },
  {
   "cell_type": "code",
   "execution_count": 3,
   "metadata": {},
   "outputs": [],
   "source": []
  },
  {
   "cell_type": "code",
   "execution_count": null,
   "metadata": {},
   "outputs": [],
   "source": [
    "# week2"
   ]
  },
  {
   "cell_type": "code",
   "execution_count": 23,
   "metadata": {},
   "outputs": [],
   "source": [
    "pandeResults2 = []\n",
    "for tweet in tweepy.Cursor(api.search,\n",
    "                           q=\"covid-19 || coronavirus || wuhan since:2020-4-1 until:2020-4-8\",\n",
    "                           result_type=\"top\", \n",
    "                           include_entities=True,\n",
    "                           wait_on_rate_limit=True,\n",
    "                           wait_on_rate_limit_notify=True).items():\n",
    "        pandeResults2.append(tweet)\n"
   ]
  },
  {
   "cell_type": "code",
   "execution_count": null,
   "metadata": {},
   "outputs": [],
   "source": []
  },
  {
   "cell_type": "code",
   "execution_count": null,
   "metadata": {},
   "outputs": [],
   "source": [
    "# week3"
   ]
  },
  {
   "cell_type": "code",
   "execution_count": 6,
   "metadata": {},
   "outputs": [
    {
     "name": "stderr",
     "output_type": "stream",
     "text": [
      "Rate limit reached. Sleeping for: 834\n",
      "Rate limit reached. Sleeping for: 836\n",
      "Rate limit reached. Sleeping for: 836\n",
      "Rate limit reached. Sleeping for: 833\n",
      "Rate limit reached. Sleeping for: 834\n",
      "Rate limit reached. Sleeping for: 836\n",
      "Rate limit reached. Sleeping for: 834\n"
     ]
    }
   ],
   "source": [
    "pandeResults3 = []\n",
    "for tweet in tweepy.Cursor(api.search,\n",
    "                           q=\"covid-19 || coronavirus || wuhan since:2020-4-8 until:2020-4-17\",\n",
    "                           result_type=\"top\", \n",
    "                           include_entities=True,\n",
    "                           wait_on_rate_limit=True,\n",
    "                           wait_on_rate_limit_notify=True).items():\n",
    "        pandeResults3.append(tweet)\n"
   ]
  },
  {
   "cell_type": "code",
   "execution_count": null,
   "metadata": {},
   "outputs": [],
   "source": []
  },
  {
   "cell_type": "code",
   "execution_count": null,
   "metadata": {},
   "outputs": [],
   "source": [
    "# week 4"
   ]
  },
  {
   "cell_type": "code",
   "execution_count": 5,
   "metadata": {},
   "outputs": [
    {
     "name": "stderr",
     "output_type": "stream",
     "text": [
      "Rate limit reached. Sleeping for: 825\n",
      "Rate limit reached. Sleeping for: 821\n",
      "Rate limit reached. Sleeping for: 823\n",
      "Rate limit reached. Sleeping for: 826\n",
      "Rate limit reached. Sleeping for: 825\n",
      "Rate limit reached. Sleeping for: 827\n",
      "Rate limit reached. Sleeping for: 826\n",
      "Rate limit reached. Sleeping for: 827\n",
      "Rate limit reached. Sleeping for: 828\n",
      "Rate limit reached. Sleeping for: 825\n",
      "Rate limit reached. Sleeping for: 828\n"
     ]
    }
   ],
   "source": [
    "pandeResults4 = []\n",
    "for tweet in tweepy.Cursor(api.search,\n",
    "                           q=\"covid-19 || coronavirus || wuhan since:2020-4-17 until:2020-4-22\",\n",
    "                           result_type=\"top\", \n",
    "                           include_entities=True,\n",
    "                           wait_on_rate_limit=True,\n",
    "                           wait_on_rate_limit_notify=True).items():\n",
    "        pandeResults4.append(tweet)"
   ]
  },
  {
   "cell_type": "code",
   "execution_count": null,
   "metadata": {},
   "outputs": [],
   "source": []
  },
  {
   "cell_type": "code",
   "execution_count": null,
   "metadata": {},
   "outputs": [],
   "source": []
  },
  {
   "cell_type": "code",
   "execution_count": null,
   "metadata": {},
   "outputs": [],
   "source": [
    "# format the data we collected in the same form as Professor Li's"
   ]
  },
  {
   "cell_type": "code",
   "execution_count": 7,
   "metadata": {},
   "outputs": [],
   "source": [
    "def our_data_format(pandeResults):\n",
    "    data = []\n",
    "    retweet_status_info = dict()\n",
    "    for index,tweet in enumerate(pandeResults):\n",
    "\n",
    "        one_tweet = dict()\n",
    "        one_tweet[\"created_at\"] = tweet.created_at.isoformat()\n",
    "        one_tweet[\"id\"] = tweet.id\n",
    "        one_tweet[\"text\"] = tweet.text\n",
    "        if tweet.text.startswith(\"RT\") == False:            # if retweeted is false\n",
    "            if tweet.entities['urls'] == []:\n",
    "                one_tweet[\"tweet_url\"] = \"https://twitter.com/user/status/\"+str(tweet.id)\n",
    "                one_tweet[\"news_url\"] = \"None\"\n",
    "            else:\n",
    "                one_tweet[\"tweet_url\"] = tweet.entities['urls'][0]['url']\n",
    "                one_tweet[\"news_url\"] = tweet.entities['urls'][0]['expanded_url']\n",
    "\n",
    "\n",
    "        one_tweet[\"in_reply_to_status_id\"] = tweet.in_reply_to_status_id\n",
    "        if one_tweet.get(\"in_reply_to_status_id\") != None:\n",
    "            one_tweet[\"in_reply_to_user\"] = tweet.in_reply_to_user_id\n",
    "        one_tweet[\"favorite_count\"] = tweet.favorite_count\n",
    "        one_tweet[\"retweet_count\"] = tweet.retweet_count\n",
    "        one_tweet[\"lang\"] = tweet.lang\n",
    "        one_tweet[\"is_retweet\"] = tweet.retweeted\n",
    "\n",
    "\n",
    "        user_infor = dict()\n",
    "        user_infor[\"id\"] = tweet.user.id\n",
    "        user_infor[\"name\"] = tweet.user.name\n",
    "        user_infor[\"screen_name\"] = tweet.user.screen_name\n",
    "        user_infor[\"profile_image_url\"] = tweet.user.profile_image_url\n",
    "        user_infor[\"lang\"] = tweet.user.lang\n",
    "        user_infor[\"location\"] = tweet.user.location\n",
    "        user_infor[\"create_at\"] = tweet.user.create_at\n",
    "        user_infor[\"description\"] = tweet.user.description\n",
    "        user_infor[\"followers_count\"] = tweet.user.followers_count\n",
    "        user_infor[\"friends_count\"] = tweet.user.friends_count\n",
    "        one_tweet[\"user\"] = user_infor\n",
    "\n",
    "\n",
    "        place_info = dict()\n",
    "        if tweet.place != None:\n",
    "            place_info[\"country\"] = tweet.place.country\n",
    "            place_info[\"country_code\"] = tweet.place.country_code\n",
    "            place_info[\"full_name\"] = tweet.place.full_name\n",
    "            place_info[\"id\"] = tweet.place.id\n",
    "            place_info[\"name\"] = tweet.place.place_type\n",
    "    #        place_info[\"bounding_box\"] = tweet.place.bounding_box\n",
    "\n",
    "        one_tweet[\"place\"] = place_info\n",
    "\n",
    "\n",
    "\n",
    "        retweet_status_info = dict()\n",
    "        try:\n",
    "            if tweet.text.startswith(\"RT\") == True:    # if retweeted is true\n",
    "#                print(index)\n",
    "                if tweet.retweeted_status.is_quote_status == True:\n",
    "\n",
    "                    retweet_status_info[\"created_at\"] = tweet.retweeted_status.quoted_status.created_at.isoformat()\n",
    "\n",
    "                    retweet_status_info[\"id\"] = tweet.retweeted_status.quoted_status.id\n",
    "\n",
    "                    retweet_status_info[\"text\"] = tweet.retweeted_status.quoted_status.text\n",
    "\n",
    "                    if tweet.retweeted_status.quoted_status.entities['urls'] == []:\n",
    "                        retweet_status_info[\"tweet_url\"] = \"https://twitter.com/user/status/\"+str(tweet.retweeted_status.quoted_status.id)\n",
    "                        retweet_status_info[\"news_url\"] = \"None\"\n",
    "                    else:\n",
    "\n",
    "                        retweet_status_info[\"tweet_url\"] = tweet.retweeted_status.quoted_status.entities['urls'][0]['url']\n",
    "                        retweet_status_info[\"news_url\"] = tweet.retweeted_status.quoted_status.entities['urls'][0]['expanded_url']\n",
    "\n",
    "\n",
    "\n",
    "                    origi_user = dict()\n",
    "                    origi_user[\"id\"] = tweet.retweeted_status.quoted_status.user.id\n",
    "                    origi_user[\"name\"] = tweet.retweeted_status.quoted_status.user.name\n",
    "                    origi_user[\"screen_name\"] = tweet.retweeted_status.quoted_status.user.screen_name\n",
    "                    origi_user[\"profile_image_url\"] = tweet.retweeted_status.quoted_status.user.profile_image_url\n",
    "                    origi_user[\"lang\"] = tweet.retweeted_status.quoted_status.user.lang\n",
    "                    origi_user[\"location\"] = tweet.retweeted_status.quoted_status.user.location\n",
    "                    origi_user[\"create_at\"] = tweet.retweeted_status.quoted_status.user.profile_image_url\n",
    "                    origi_user[\"description\"] = tweet.retweeted_status.quoted_status.user.lang\n",
    "                    origi_user[\"followers_count\"] = tweet.retweeted_status.quoted_status.user.location\n",
    "                    origi_user[\"friends_count\"] = tweet.retweeted_status.quoted_status.user.friends_count\n",
    "\n",
    "\n",
    "                    retweet_status_info[\"user\"] = origi_user\n",
    "\n",
    "                    place_info_origi = dict()\n",
    "                    if tweet.retweeted_status.place != None:\n",
    "                        place_info_origi[\"country\"] = tweet.retweeted_status.quoted_status.place.country\n",
    "                        place_info_origi[\"country_code\"] = tweet.retweeted_status.quoted_status.place.country_code\n",
    "                        place_info_origi[\"full_name\"] = tweet.retweeted_status.quoted_status.place.full_name\n",
    "                        place_info_origi[\"id\"] = tweet.retweeted_status.quoted_status.place.id\n",
    "                        place_info_origi[\"name\"] = tweet.retweeted_status.place.quoted_status.place_type\n",
    "        #                place_info_origi[\"bounding_box\"] = tweet.retweeted_status.place.quoted_status.bounding_box\n",
    "                else:     \n",
    "                    retweet_status_info[\"created_at\"] = tweet.retweeted_status.created_at.isoformat()\n",
    "\n",
    "                    retweet_status_info[\"id\"] = tweet.retweeted_status.id\n",
    "\n",
    "                    retweet_status_info[\"text\"] = tweet.retweeted_status.text\n",
    "                    if tweet.retweeted_status.entities['urls'] == []:\n",
    "                        retweet_status_info[\"tweet_url\"] = \"https://twitter.com/user/status/\"+str(tweet.retweeted_status.id)\n",
    "                        retweet_status_info[\"news_url\"] = \"None\"\n",
    "                    else:\n",
    "                        retweet_status_info[\"tweet_url\"] = tweet.retweeted_status.entities['urls'][0]['url']\n",
    "                        retweet_status_info[\"news_url\"] = tweet.retweeted_status.entities['urls'][0]['expanded_url']\n",
    "\n",
    "\n",
    "\n",
    "                    origi_user = dict()\n",
    "                    origi_user[\"id\"] = tweet.retweeted_status.user.id\n",
    "                    origi_user[\"name\"] = tweet.retweeted_status.user.name\n",
    "                    origi_user[\"screen_name\"] = tweet.retweeted_status.user.screen_name\n",
    "                    origi_user[\"profile_image_url\"] = tweet.retweeted_status.user.profile_image_url\n",
    "                    origi_user[\"lang\"] = tweet.retweeted_status.user.lang\n",
    "                    origi_user[\"location\"] = tweet.retweeted_status.user.location\n",
    "                    origi_user[\"create_at\"] = tweet.retweeted_status.user.profile_image_url\n",
    "                    origi_user[\"description\"] = tweet.retweeted_status.user.lang\n",
    "                    origi_user[\"followers_count\"] = tweet.retweeted_status.user.location\n",
    "                    origi_user[\"friends_count\"] = tweet.retweeted_status.user.friends_count\n",
    "\n",
    "\n",
    "                    retweet_status_info[\"user\"] = origi_user\n",
    "\n",
    "                    place_info_origi = dict()\n",
    "                    if tweet.retweeted_status.place != None:\n",
    "                        place_info_origi[\"country\"] = tweet.retweeted_status.place.country\n",
    "                        place_info_origi[\"country_code\"] = tweet.retweeted_status.place.country_code\n",
    "                        place_info_origi[\"full_name\"] = tweet.retweeted_status.place.full_name\n",
    "                        place_info_origi[\"id\"] = tweet.retweeted_status.place.id\n",
    "                        place_info_origi[\"name\"] = tweet.retweeted_status.place.place_type\n",
    "        #                place_info_origi[\"bounding_box\"] = tweet.retweeted_status.place.bounding_box\n",
    "\n",
    "                retweet_status_info[\"place\"] = place_info_origi\n",
    "        except:\n",
    "            pass\n",
    "            \n",
    "        one_tweet[\"retweeted_status\"] = retweet_status_info\n",
    "\n",
    "        data.append(one_tweet)\n",
    "        \n",
    "    return data"
   ]
  },
  {
   "cell_type": "code",
   "execution_count": null,
   "metadata": {},
   "outputs": [],
   "source": [
    "# take week4 for example"
   ]
  },
  {
   "cell_type": "code",
   "execution_count": 9,
   "metadata": {},
   "outputs": [],
   "source": [
    "our_data_week4 = our_data_format(pandeResults4)"
   ]
  }
 ],
 "metadata": {
  "kernelspec": {
   "display_name": "Python 3",
   "language": "python",
   "name": "python3"
  },
  "language_info": {
   "codemirror_mode": {
    "name": "ipython",
    "version": 3
   },
   "file_extension": ".py",
   "mimetype": "text/x-python",
   "name": "python",
   "nbconvert_exporter": "python",
   "pygments_lexer": "ipython3",
   "version": "3.7.4"
  }
 },
 "nbformat": 4,
 "nbformat_minor": 2
}
